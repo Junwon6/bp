{
 "cells": [
  {
   "cell_type": "markdown",
   "id": "measured-postcard",
   "metadata": {},
   "source": [
    "<center>\n",
    "    <h1>EXPERIMENT</h1>\n",
    "    <hr>\n",
    "</center>"
   ]
  },
  {
   "cell_type": "raw",
   "id": "appointed-bread",
   "metadata": {},
   "source": [
    "| ID                                  | CASE                                |\n",
    "| :---------------------------------- | :---------------------------------- |\n",
    "| DATASET                             | d00, d01, d02                       |\n",
    "| DETAIL                              | s00, s01                            |\n",
    "| MODEL                               | m01, m02, m03, m04, m05             |\n",
    "| EXPERIMENT                          | e01 ~ e10                           |\n",
    "| DATAFRAME                           | df01, df02, df03, df04, df05, df06  |"
   ]
  },
  {
   "cell_type": "raw",
   "id": "contrary-motion",
   "metadata": {},
   "source": [
    "| DATABASE ID                         | DESCRIPTION                         |\n",
    "| :---------------------------------- | :---------------------------------- |\n",
    "| d00                                 | VITAL-UQ                            |\n",
    "| d01                                 | MIMIC-II                            |\n",
    "| d02                                 | E4                                  |"
   ]
  },
  {
   "cell_type": "raw",
   "id": "rational-survey",
   "metadata": {},
   "source": [
    "| DETAIL ID                           | DESCRIPTION                         |\n",
    "| :---------------------------------- | :---------------------------------- |\n",
    "| s00                                 | raw slice                           |\n",
    "| s01                                 | unit slice                          |"
   ]
  },
  {
   "cell_type": "raw",
   "id": "thousand-arrangement",
   "metadata": {},
   "source": [
    "| MODEL ID                            | DESCRIPTION                                      |\n",
    "| :---------------------------------- | :----------------------------------------------- |\n",
    "| m01                                 | 1-layer lstm                                     |\n",
    "| m02                                 | multi-layer cnn                                  |\n",
    "| m03                                 | 2-layer lstm                                     |\n",
    "| m04                                 | 1-layer bidirectional lstm                       |\n",
    "| m05                                 | stacked, residual, bidirectional lstm            | "
   ]
  },
  {
   "cell_type": "raw",
   "id": "featured-imaging",
   "metadata": {},
   "source": [
    "| EXPERIMENT ID                       | DESCRIPTION                                                                            |\n",
    "| :---------------------------------- | :------------------------------------------------------------------------------------- |\n",
    "| e01                                 |  df01                                                                                  |\n",
    "| e02                                 |  df01 + df02                                                                           |\n",
    "| e06                                 |  df04                                                                                  |\n",
    "| e07                                 |  df04 + df05                                                                           |\n",
    "| e08                                 |  df06                                                                                  |\n",
    "| e09                                 |  df04 + df06                                                                           |\n",
    "| e10                                 |  df04 + df05 + df06                                                                    |"
   ]
  },
  {
   "cell_type": "raw",
   "id": "advisory-timeline",
   "metadata": {},
   "source": [
    "| DATAFRAME ID                        | DESCRIPTION                                                                            |\n",
    "| :---------------------------------- | :------------------------------------------------------------------------------------- |\n",
    "| df01                                | raw signal                                                                             |\n",
    "| df02                                | differential values                                                                    |\n",
    "| df03                                | static feature                                                                         |\n",
    "| df04                                | unit pattern signal                                                                    |\n",
    "| df05                                | unit differential values                                                               |\n",
    "| df06                                | unit static feature                                                                    |"
   ]
  },
  {
   "cell_type": "code",
   "execution_count": 2,
   "id": "elementary-chocolate",
   "metadata": {},
   "outputs": [],
   "source": [
    "import os\n",
    "\n",
    "from tensorflow.keras.callbacks import ReduceLROnPlateau, EarlyStopping, ModelCheckpoint\n",
    "\n",
    "import ray\n",
    "from ray import tune\n",
    "from ray.tune.schedulers import AsyncHyperBandScheduler\n",
    "from ray.tune.integration.keras import TuneReportCallback\n",
    "from ray.tune import JupyterNotebookReporter\n",
    "\n",
    "from module.c_data_loader import data_load\n",
    "from module.c_model import get_model\n",
    "from module.c_test import get_test_model_config\n",
    "from module.common import set_device, make_tag\n",
    "\n",
    "def experiment(config):\n",
    "    # prepare data\n",
    "    trnx, trny, tstx, tsty = data_load(config['t_path'], \n",
    "                                       config['exp']['d_id'], \n",
    "                                       config['exp']['s_id'], \n",
    "                                       config['exp']['e_id'], \n",
    "                                       config['exp']['case'], \n",
    "                                       config['exp']['n_fold'], \n",
    "                                       config['model']['s_len'])\n",
    "\n",
    "    trnx = trnx.reshape(-1, config['model']['s_len'], config['model']['n_dim'])\n",
    "    tstx = tstx.reshape(-1, config['model']['s_len'], config['model']['n_dim'])\n",
    "    \n",
    "    # build model\n",
    "    set_device(config['n_device'])\n",
    "    model = get_model(config['exp']['m_id'], config['model'])\n",
    "\n",
    "    # fit model\n",
    "    m_c_path = f'{config[\"t_path\"]}/model_checkpoint/{make_tag(config[\"exp\"])}'    # model checkpoint path\n",
    "    if os.path.exists(m_c_path) == False:\n",
    "        os.mkdir(m_c_path)\n",
    "        \n",
    "    callbacks = [ReduceLROnPlateau(patience=10, mode='min'),\n",
    "                 EarlyStopping(patience=10, mode='min'),\n",
    "                 ModelCheckpoint(f'{m_c_path}/{make_tag(config[\"model\"])}.h5', \n",
    "                                 save_best_only=True, mode='auto'),\n",
    "                 TuneReportCallback({'mse': 'loss', \n",
    "                                     'mae': 'mae', \n",
    "                                     'r2': 'r2_score', \n",
    "                                     'val_mse': 'val_loss',  \n",
    "                                     'val_mae': 'val_mae', \n",
    "                                     'val_r2': 'val_r2_score',\n",
    "                                    })]\n",
    "\n",
    "    model.fit(trnx, trny, \n",
    "              validation_split=0.1, shuffle=True, \n",
    "              batch_size=256, epochs=1, \n",
    "              callbacks=callbacks, \n",
    "              verbose=0\n",
    "             )\n",
    "\n",
    "def tuning(case, n_fold):\n",
    "    # example\n",
    "    config = {\n",
    "        't_path': '/workspace/junwon/bp/_experiment',    # total absolute path\n",
    "        'n_device': 3,                                   # device number\n",
    "        'exp': {\n",
    "            'd_id': 'd00',                               # dataset id\n",
    "            's_id': 's01',                               # detail id\n",
    "            'm_id': 'm01',                               # model id\n",
    "            'e_id': 'e06',                               # experiment id\n",
    "            'case': case,\n",
    "            'n_fold': n_fold                             # fold number\n",
    "        },\n",
    "\n",
    "        'model': {\n",
    "            's_len': 100,                                # sequence length\n",
    "            'n_dim': 1,                                  # data dimension\n",
    "            'n_unit': tune.randint(100, 200),            # of lstm unit\n",
    "            'drop_rate': tune.uniform(0.1, 0.5),         # drop out rate\n",
    "            'n_output': 2                                # # of output\n",
    "        }\n",
    "    }\n",
    "    \n",
    "    sched = AsyncHyperBandScheduler(time_attr=\"training_iteration\", \n",
    "                                    max_t=400, grace_period=20)\n",
    "\n",
    "    analysis = tune.run(\n",
    "        experiment,\n",
    "        name=make_tag(config[\"exp\"]),\n",
    "        scheduler=sched,\n",
    "        metric=\"r2\",\n",
    "        mode=\"max\",\n",
    "        num_samples=5,\n",
    "        resources_per_trial={\n",
    "            'cpu': 1, \n",
    "            'gpu': 0.2\n",
    "        },\n",
    "        config=config,\n",
    "        local_dir='./ray_results',\n",
    "        progress_reporter=JupyterNotebookReporter(overwrite=True)\n",
    "    )"
   ]
  },
  {
   "cell_type": "code",
   "execution_count": 10,
   "id": "sized-shade",
   "metadata": {
    "tags": []
   },
   "outputs": [
    {
     "data": {
      "text/html": [
       "== Status ==<br>Current time: 2022-01-31 05:30:57 (running for 00:00:15.63)<br>Memory usage on this node: 7.7/251.6 GiB<br>Using AsyncHyperBand: num_stopped=0\n",
       "Bracket: Iter 320.000: None | Iter 80.000: None | Iter 20.000: None<br>Resources requested: 0/40 CPUs, 0/1 GPUs, 0.0/230.28 GiB heap, 0.0/9.31 GiB objects (0.0/1.0 accelerator_type:RTX)<br>Current best trial: ee4ec_00000 with r2=-8.699000145017674 and parameters={'t_path': '/workspace/junwon/bp/_experiment', 'n_device': 3, 'exp': {'d_id': 'd00', 's_id': 's01', 'm_id': 'm01', 'e_id': 'e06', 'case': 'case01', 'n_fold': 3}, 'model': {'s_len': 100, 'n_dim': 1, 'n_unit': 190, 'drop_rate': 0.48631750755111647, 'n_output': 2}}<br>Result logdir: /workspace/junwon/bp/_experiment/ray_results/d00_s01_m01_e06_case01_3<br>Number of trials: 5/5 (5 TERMINATED)<br><table>\n",
       "<thead>\n",
       "<tr><th>Trial name            </th><th>status    </th><th>loc            </th><th style=\"text-align: right;\">  model/drop_rate</th><th style=\"text-align: right;\">  model/n_unit</th><th style=\"text-align: right;\">  iter</th><th style=\"text-align: right;\">  total time (s)</th><th style=\"text-align: right;\">    mse</th><th style=\"text-align: right;\">    mae</th><th style=\"text-align: right;\">      r2</th></tr>\n",
       "</thead>\n",
       "<tbody>\n",
       "<tr><td>experiment_ee4ec_00000</td><td>TERMINATED</td><td>172.17.0.7:3375</td><td style=\"text-align: right;\">         0.486318</td><td style=\"text-align: right;\">           190</td><td style=\"text-align: right;\">     1</td><td style=\"text-align: right;\">         8.76092</td><td style=\"text-align: right;\">5712.28</td><td style=\"text-align: right;\">71.5846</td><td style=\"text-align: right;\">-8.699  </td></tr>\n",
       "<tr><td>experiment_ee4ec_00001</td><td>TERMINATED</td><td>172.17.0.7:3400</td><td style=\"text-align: right;\">         0.182617</td><td style=\"text-align: right;\">           145</td><td style=\"text-align: right;\">     1</td><td style=\"text-align: right;\">        10.5162 </td><td style=\"text-align: right;\">5714.32</td><td style=\"text-align: right;\">71.5986</td><td style=\"text-align: right;\">-8.70913</td></tr>\n",
       "<tr><td>experiment_ee4ec_00002</td><td>TERMINATED</td><td>172.17.0.7:3386</td><td style=\"text-align: right;\">         0.36721 </td><td style=\"text-align: right;\">           188</td><td style=\"text-align: right;\">     1</td><td style=\"text-align: right;\">        10.797  </td><td style=\"text-align: right;\">5712.25</td><td style=\"text-align: right;\">71.5842</td><td style=\"text-align: right;\">-8.70233</td></tr>\n",
       "<tr><td>experiment_ee4ec_00003</td><td>TERMINATED</td><td>172.17.0.7:3377</td><td style=\"text-align: right;\">         0.352551</td><td style=\"text-align: right;\">           174</td><td style=\"text-align: right;\">     1</td><td style=\"text-align: right;\">        10.1904 </td><td style=\"text-align: right;\">5713.5 </td><td style=\"text-align: right;\">71.5939</td><td style=\"text-align: right;\">-8.70983</td></tr>\n",
       "<tr><td>experiment_ee4ec_00004</td><td>TERMINATED</td><td>172.17.0.7:3397</td><td style=\"text-align: right;\">         0.485323</td><td style=\"text-align: right;\">           182</td><td style=\"text-align: right;\">     1</td><td style=\"text-align: right;\">        11.0233 </td><td style=\"text-align: right;\">5713.1 </td><td style=\"text-align: right;\">71.5921</td><td style=\"text-align: right;\">-8.70758</td></tr>\n",
       "</tbody>\n",
       "</table><br><br>"
      ],
      "text/plain": [
       "<IPython.core.display.HTML object>"
      ]
     },
     "metadata": {},
     "output_type": "display_data"
    },
    {
     "name": "stderr",
     "output_type": "stream",
     "text": [
      "2022-01-31 05:30:57,611\tINFO tune.py:630 -- Total run time: 15.76 seconds (15.57 seconds for the tuning loop).\n"
     ]
    }
   ],
   "source": [
    "case = 'case01'\n",
    "n_fold = 3\n",
    "ray.shutdown()\n",
    "ray.init(num_gpus=1)\n",
    "analysis = tuning(case, n_fold)"
   ]
  }
 ],
 "metadata": {
  "kernelspec": {
   "display_name": "Python 3",
   "language": "python",
   "name": "python3"
  },
  "language_info": {
   "codemirror_mode": {
    "name": "ipython",
    "version": 3
   },
   "file_extension": ".py",
   "mimetype": "text/x-python",
   "name": "python",
   "nbconvert_exporter": "python",
   "pygments_lexer": "ipython3",
   "version": "3.6.9"
  }
 },
 "nbformat": 4,
 "nbformat_minor": 5
}
