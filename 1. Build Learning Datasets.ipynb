{
 "cells": [
  {
   "cell_type": "markdown",
   "id": "hundred-boards",
   "metadata": {},
   "source": [
    "### Make Directory for Learning Dataset"
   ]
  },
  {
   "cell_type": "code",
   "execution_count": null,
   "id": "c7e3d190",
   "metadata": {},
   "outputs": [],
   "source": [
    "import os\n",
    "\n",
    "dataset_name = ['vital-UQ', 'MIMIC-II','E4']\n",
    "dataset_id = ['d00', 'd01', 'd02']\n",
    "\n",
    "os.mkdir(f'./l-dataset')\n",
    "for d_id in dataset_id:\n",
    "    os.mkdir(f'./l-dataset/{d_id}')\n",
    "    os.mkdir(f'./l-dataset/{d_id}/s00')\n",
    "    os.mkdir(f'./l-dataset/{d_id}/s01')"
   ]
  },
  {
   "cell_type": "markdown",
   "id": "about-proof",
   "metadata": {},
   "source": [
    "### Build Learning Dataset"
   ]
  },
  {
   "cell_type": "code",
   "execution_count": 4,
   "id": "2eb858f5",
   "metadata": {},
   "outputs": [],
   "source": [
    "import module.build_l_dataset.d00_s00 as d00_s00\n",
    "import module.build_l_dataset.d00_s01 as d00_s01\n",
    "import module.build_l_dataset.d02_s00 as d02_s00\n",
    "import module.build_l_dataset.d02_s01 as d02_s01\n",
    "\n",
    "def build_l_dataset(d_id, s_id, s_len, n_fold):\n",
    "    if (d_id == 'd00') & (s_id == 's00'):\n",
    "        l_path = '../_dataset/open_dataset'              # load dataset path\n",
    "        s_path = f'./l-dataset/{d_id}/{s_id}'            # save dataset path\n",
    "        v_fname = 'valid_boundary.csv'                   # validation boundary file name\n",
    "\n",
    "        t_dataset, t_idx = d00_s00.build_case_l_dataset(s_len, n_fold, l_path, s_path, v_fname)\n",
    "        d00_s00.build_total_l_dataset(t_dataset, t_idx, n_fold, s_path, s_len)\n",
    "\n",
    "    elif (d_id == 'd00') & (s_id == 's01'):\n",
    "        l_path = '../_dataset/open_dataset'              # load dataset path\n",
    "        s_path = f'./l-dataset/{d_id}/{s_id}'            # save dataset path\n",
    "        v_fname = 'valid_uni_bvp_boundary.csv'           # validation boundary file name\n",
    "        f_name = ['rise_time', 'pwa', 'pwd']             # feature name\n",
    "\n",
    "        t_dataset, t_idx = d00_s01.build_case_l_dataset(s_len, n_fold, l_path, s_path, v_fname, f_name)\n",
    "        d00_s01.build_total_l_dataset(t_dataset, t_idx, n_fold, s_path, f_name, s_len)\n",
    "\n",
    "    elif (d_id == 'd02') & (s_id == 's00'):\n",
    "        l_path = '../_dataset/collected_dataset'         # load dataset path\n",
    "        s_path = f'./l-dataset/{d_id}/{s_id}'            # save dataset path\n",
    "        time = 30\n",
    "\n",
    "        t_dataset, t_idx = d02_s00.build_case_l_dataset(s_len, n_fold, l_path, s_path, time)\n",
    "        d02_s00.build_total_l_dataset(t_dataset, t_idx, n_fold, s_path, s_len)\n",
    "\n",
    "    elif (d_id == 'd02') & (s_id == 's01'):\n",
    "        l_path = '../_dataset/collected_dataset'         # load dataset path\n",
    "        s_path = f'./l-dataset/{d_id}/{s_id}'            # save dataset path\n",
    "        f_name = ['rise_time', 'pwa', 'pwd']             # feature name\n",
    "        time = 30\n",
    "\n",
    "        t_dataset, t_idx = d02_s01.build_case_l_dataset(s_len, n_fold, l_path, s_path, time, f_name)\n",
    "        d02_s01.build_total_l_dataset(t_dataset, t_idx, n_fold, s_path, f_name, s_len)"
   ]
  },
  {
   "cell_type": "code",
   "execution_count": 2,
   "id": "b72138dc",
   "metadata": {},
   "outputs": [
    {
     "name": "stdout",
     "output_type": "stream",
     "text": [
      "[case01] BUILD COMPLETE\n",
      "[case04] BUILD COMPLETE\n",
      "[case08] BUILD COMPLETE\n",
      "[case09] BUILD COMPLETE\n",
      "[case10] BUILD COMPLETE\n",
      "[case11] BUILD COMPLETE\n",
      "[case12] BUILD COMPLETE\n",
      "[case13] BUILD COMPLETE\n",
      "[case22] BUILD COMPLETE\n",
      "[case23] BUILD COMPLETE\n",
      "[case24] BUILD COMPLETE\n",
      "[case28] BUILD COMPLETE\n",
      "[case29] BUILD COMPLETE\n",
      "[case31] BUILD COMPLETE\n",
      "[case32] BUILD COMPLETE\n",
      "[total]  BUILD COMPLETE\n"
     ]
    }
   ],
   "source": [
    "d_id = 'd00'\n",
    "s_id = 's00'\n",
    "s_len = 100\n",
    "n_fold = 5\n",
    "build_l_dataset(d_id, s_id, s_len, n_fold)"
   ]
  },
  {
   "cell_type": "code",
   "execution_count": 11,
   "id": "individual-lucas",
   "metadata": {},
   "outputs": [
    {
     "name": "stdout",
     "output_type": "stream",
     "text": [
      "[case01] BUILD COMPLETE\n",
      "[case04] BUILD COMPLETE\n",
      "[case08] BUILD COMPLETE\n",
      "[case09] BUILD COMPLETE\n",
      "[case10] BUILD COMPLETE\n",
      "[case11] BUILD COMPLETE\n",
      "[case12] BUILD COMPLETE\n",
      "[case13] BUILD COMPLETE\n",
      "[case22] BUILD COMPLETE\n",
      "[case23] BUILD COMPLETE\n",
      "[case24] BUILD COMPLETE\n",
      "[case28] BUILD COMPLETE\n",
      "[case29] BUILD COMPLETE\n",
      "[case31] BUILD COMPLETE\n",
      "[case32] BUILD COMPLETE\n",
      "[total]  BUILD COMPLETE\n"
     ]
    }
   ],
   "source": [
    "d_id = 'd00'\n",
    "s_id = 's01'\n",
    "s_len = 100\n",
    "n_fold = 5\n",
    "build_l_dataset(d_id, s_id, s_len, n_fold)"
   ]
  },
  {
   "cell_type": "code",
   "execution_count": 5,
   "id": "ac1f8679",
   "metadata": {},
   "outputs": [
    {
     "name": "stdout",
     "output_type": "stream",
     "text": [
      "[1620802927_A03590] BUILD COMPLETE\n",
      "[1620951812_A0376A] BUILD COMPLETE\n",
      "[1618395501_A0376A] BUILD COMPLETE\n",
      "[1618629102_A0376A] BUILD COMPLETE\n",
      "[1618645442_A0376A] BUILD COMPLETE\n",
      "[1618626380_A03415] BUILD COMPLETE\n",
      "[1618753927_A0376A] BUILD COMPLETE\n",
      "[1620971403_A0395C] BUILD COMPLETE\n",
      "[1621235758_A0395C] BUILD COMPLETE\n",
      "[1621139234_A01F73] BUILD COMPLETE\n",
      "[1618471529_A01F73] BUILD COMPLETE\n",
      "[1621315876_A0376A] BUILD COMPLETE\n",
      "[1621300946_A03590] BUILD COMPLETE\n",
      "[1621303888_A03415] BUILD COMPLETE\n",
      "[1618895161_A03415] BUILD COMPLETE\n",
      "[1618570827_A0376A] BUILD COMPLETE\n",
      "[1618801849_A01F73] BUILD COMPLETE\n",
      "[1621312142_A0376A] BUILD COMPLETE\n",
      "[1618549676_A01F73] BUILD COMPLETE\n",
      "[1618840000_A0376A] BUILD COMPLETE\n",
      "[1618643232_A01F73] BUILD COMPLETE\n",
      "[1621324979_A0376A] BUILD COMPLETE\n",
      "[1620793383_A03590] BUILD COMPLETE\n",
      "[1618676750_A0376A] BUILD COMPLETE\n",
      "[1618719671_A01F73] BUILD COMPLETE\n",
      "[1620871986_A0376A] BUILD COMPLETE\n",
      "[1620880520_A0376A] BUILD COMPLETE\n",
      "[1621945608_A01F73] BUILD COMPLETE\n",
      "[1620973852_A0395C] BUILD COMPLETE\n",
      "[1620871329_A03415] BUILD COMPLETE\n",
      "[1621219818_A03415] BUILD COMPLETE\n",
      "[1618896920_A03415] BUILD COMPLETE\n",
      "[1618537836_A03415] BUILD COMPLETE\n",
      "[1618371426_A03415] BUILD COMPLETE\n",
      "[1618710197_A0376A] BUILD COMPLETE\n",
      "[1620888371_A03590] BUILD COMPLETE\n",
      "[1618743584_A0376A] BUILD COMPLETE\n",
      "[1620956853_A03590] BUILD COMPLETE\n",
      "[1618468176_A01F73] BUILD COMPLETE\n",
      "[1618634191_A01F73] BUILD COMPLETE\n",
      "[1618537867_A0376A] BUILD COMPLETE\n",
      "[1618649530_A03415] BUILD COMPLETE\n",
      "[1621923130_A01F73] BUILD COMPLETE\n",
      "[1618534997_A01F73] BUILD COMPLETE\n",
      "[1621302383_A0395C] BUILD COMPLETE\n",
      "[1618459230_A03415] BUILD COMPLETE\n",
      "[1621296250_A0395C] BUILD COMPLETE\n",
      "[1621058971_A03590] BUILD COMPLETE\n",
      "[1618741898_A01F73] BUILD COMPLETE\n",
      "[1618715022_A01F73] BUILD COMPLETE\n",
      "[1618816766_A0376A] BUILD COMPLETE\n",
      "[1618710929_A01F73] BUILD COMPLETE\n",
      "[1618550236_A0376A] BUILD COMPLETE\n",
      "[1618795765_A0376A] BUILD COMPLETE\n",
      "[1618705264_A01F73] BUILD COMPLETE\n",
      "[1620864407_A0395C] BUILD COMPLETE\n",
      "[1620983103_A0376A] BUILD COMPLETE\n",
      "[1621147185_A01F73] BUILD COMPLETE\n",
      "[1618877128_A03590] BUILD COMPLETE\n",
      "[1618451065_A0376A] BUILD COMPLETE\n",
      "[1618884823_A03415] BUILD COMPLETE\n",
      "[1618646727_A03415] BUILD COMPLETE\n",
      "[1620971629_A01F73] BUILD COMPLETE\n",
      "[1618798331_A03415] BUILD COMPLETE\n",
      "[1618364352_A0376A] BUILD COMPLETE\n",
      "[1621214130_A03590] BUILD COMPLETE\n",
      "[1618731551_A03415] BUILD COMPLETE\n",
      "[1620841407_A0376A] BUILD COMPLETE\n",
      "[1618664516_A03415] BUILD COMPLETE\n",
      "[1620870976_A03590] BUILD COMPLETE\n",
      "[1620895263_A0376A] BUILD COMPLETE\n",
      "[1621066726_A01F73] BUILD COMPLETE\n",
      "[1618547571_A03415] BUILD COMPLETE\n",
      "[1620792070_A03415] BUILD COMPLETE\n",
      "[1621132465_A01F73] BUILD COMPLETE\n",
      "[1618461877_A0376A] BUILD COMPLETE\n",
      "[1618746528_A03415] BUILD COMPLETE\n",
      "[1618469413_A01F73] BUILD COMPLETE\n",
      "[1622029000_A01F73] BUILD COMPLETE\n",
      "[1618708869_A03415] BUILD COMPLETE\n",
      "[1620778311_A0395C] BUILD COMPLETE\n",
      "[1618368829_A03415] BUILD COMPLETE\n",
      "[1618474982_A01F73] BUILD COMPLETE\n",
      "[1618661463_A03415] BUILD COMPLETE\n",
      "[1620949126_A0395C] BUILD COMPLETE\n",
      "[1618653669_A03415] BUILD COMPLETE\n",
      "[1621249506_A01F73] BUILD COMPLETE\n",
      "[total]  BUILD COMPLETE\n"
     ]
    }
   ],
   "source": [
    "d_id = 'd02'\n",
    "s_id = 's00'\n",
    "s_len = 100\n",
    "n_fold = 5\n",
    "build_l_dataset(d_id, s_id, s_len, n_fold)"
   ]
  },
  {
   "cell_type": "code",
   "execution_count": 12,
   "id": "ed7caa59",
   "metadata": {},
   "outputs": [
    {
     "name": "stdout",
     "output_type": "stream",
     "text": [
      "[1620802927_A03590] BUILD COMPLETE\n",
      "[1620951812_A0376A] BUILD COMPLETE\n",
      "[1618395501_A0376A] BUILD COMPLETE\n",
      "[1618629102_A0376A] BUILD COMPLETE\n",
      "[1618645442_A0376A] BUILD COMPLETE\n",
      "[1618626380_A03415] BUILD COMPLETE\n",
      "[1618753927_A0376A] BUILD COMPLETE\n",
      "[1620971403_A0395C] BUILD COMPLETE\n",
      "[1621235758_A0395C] BUILD COMPLETE\n",
      "[1621139234_A01F73] BUILD COMPLETE\n",
      "[1618471529_A01F73] BUILD COMPLETE\n",
      "[1621315876_A0376A] BUILD COMPLETE\n",
      "[1621300946_A03590] BUILD COMPLETE\n",
      "[1621303888_A03415] BUILD COMPLETE\n",
      "[1618895161_A03415] BUILD COMPLETE\n",
      "[1618570827_A0376A] BUILD COMPLETE\n",
      "[1618801849_A01F73] BUILD COMPLETE\n",
      "[1621312142_A0376A] BUILD COMPLETE\n",
      "[1618549676_A01F73] BUILD COMPLETE\n",
      "[1618840000_A0376A] BUILD COMPLETE\n",
      "[1618643232_A01F73] BUILD COMPLETE\n",
      "[1621324979_A0376A] BUILD COMPLETE\n",
      "[1620793383_A03590] BUILD COMPLETE\n",
      "[1618676750_A0376A] BUILD COMPLETE\n",
      "[1618719671_A01F73] BUILD COMPLETE\n",
      "[1620871986_A0376A] BUILD COMPLETE\n",
      "[1620880520_A0376A] BUILD COMPLETE\n",
      "[1621945608_A01F73] BUILD COMPLETE\n",
      "[1620973852_A0395C] BUILD COMPLETE\n",
      "[1620903475_A0395C] BUILD COMPLETE\n",
      "[1620871329_A03415] BUILD COMPLETE\n",
      "[1621219818_A03415] BUILD COMPLETE\n",
      "[1618896920_A03415] BUILD COMPLETE\n",
      "[1618537836_A03415] BUILD COMPLETE\n",
      "[1618371426_A03415] BUILD COMPLETE\n",
      "[1618710197_A0376A] BUILD COMPLETE\n",
      "[1620888371_A03590] BUILD COMPLETE\n",
      "[1618743584_A0376A] BUILD COMPLETE\n",
      "[1620956853_A03590] BUILD COMPLETE\n",
      "[1618468176_A01F73] BUILD COMPLETE\n",
      "[1618634191_A01F73] BUILD COMPLETE\n",
      "[1618537867_A0376A] BUILD COMPLETE\n",
      "[1618649530_A03415] BUILD COMPLETE\n",
      "[1621923130_A01F73] BUILD COMPLETE\n",
      "[1618534997_A01F73] BUILD COMPLETE\n",
      "[1621302383_A0395C] BUILD COMPLETE\n",
      "[1618459230_A03415] BUILD COMPLETE\n",
      "[1621296250_A0395C] BUILD COMPLETE\n",
      "[1621058971_A03590] BUILD COMPLETE\n",
      "[1618741898_A01F73] BUILD COMPLETE\n",
      "[1618715022_A01F73] BUILD COMPLETE\n",
      "[1618816766_A0376A] BUILD COMPLETE\n",
      "[1618710929_A01F73] BUILD COMPLETE\n",
      "[1618550236_A0376A] BUILD COMPLETE\n",
      "[1618795765_A0376A] BUILD COMPLETE\n",
      "[1618705264_A01F73] BUILD COMPLETE\n",
      "[1620864407_A0395C] BUILD COMPLETE\n",
      "[1620983103_A0376A] BUILD COMPLETE\n",
      "[1621147185_A01F73] BUILD COMPLETE\n",
      "[1618877128_A03590] BUILD COMPLETE\n",
      "[1618451065_A0376A] BUILD COMPLETE\n",
      "[1618884823_A03415] BUILD COMPLETE\n",
      "[1618646727_A03415] BUILD COMPLETE\n",
      "[1620971629_A01F73] BUILD COMPLETE\n",
      "[1618798331_A03415] BUILD COMPLETE\n",
      "[1618364352_A0376A] BUILD COMPLETE\n",
      "[1621214130_A03590] BUILD COMPLETE\n",
      "[1618731551_A03415] BUILD COMPLETE\n",
      "[1620841407_A0376A] BUILD COMPLETE\n",
      "[1618664516_A03415] BUILD COMPLETE\n",
      "[1620870976_A03590] BUILD COMPLETE\n",
      "[1620895263_A0376A] BUILD COMPLETE\n",
      "[1621066726_A01F73] BUILD COMPLETE\n",
      "[1618547571_A03415] BUILD COMPLETE\n",
      "[1620792070_A03415] BUILD COMPLETE\n",
      "[1621132465_A01F73] BUILD COMPLETE\n",
      "[1618461877_A0376A] BUILD COMPLETE\n",
      "[1618746528_A03415] BUILD COMPLETE\n",
      "[1618469413_A01F73] BUILD COMPLETE\n",
      "[1622029000_A01F73] BUILD COMPLETE\n",
      "[1618708869_A03415] BUILD COMPLETE\n",
      "[1620778311_A0395C] BUILD COMPLETE\n",
      "[1618368829_A03415] BUILD COMPLETE\n",
      "[1618474982_A01F73] BUILD COMPLETE\n",
      "[1618661463_A03415] BUILD COMPLETE\n",
      "[1620949126_A0395C] BUILD COMPLETE\n",
      "[1618653669_A03415] BUILD COMPLETE\n",
      "[1621249506_A01F73] BUILD COMPLETE\n",
      "[total]  BUILD COMPLETE\n"
     ]
    }
   ],
   "source": [
    "d_id = 'd02'\n",
    "s_id = 's01'\n",
    "s_len = 100\n",
    "n_fold = 5\n",
    "build_l_dataset(d_id, s_id, s_len, n_fold)"
   ]
  },
  {
   "cell_type": "code",
   "execution_count": 10,
   "id": "e05561c2",
   "metadata": {},
   "outputs": [],
   "source": [
    "import pandas as pd\n",
    "\n",
    "total = pd.read_csv('./l-dataset/d02/s01/total/total.csv')"
   ]
  },
  {
   "cell_type": "code",
   "execution_count": 15,
   "id": "ff6f5c9a",
   "metadata": {},
   "outputs": [],
   "source": [
    "import os\n",
    "\n",
    "\n",
    "file_list = os.listdir('./l-dataset/d02/s00')\n",
    "\n",
    "cnt = []\n",
    "for f_name in file_list:\n",
    "    data = pd.read_csv(f'./l-dataset/d02/s00/{f_name}/{f_name}.csv')\n",
    "    cnt.append((f_name, len(data)))"
   ]
  },
  {
   "cell_type": "code",
   "execution_count": 17,
   "id": "84cc0d95",
   "metadata": {},
   "outputs": [],
   "source": [
    "cnt.sort(key=lambda x: x[1])"
   ]
  },
  {
   "cell_type": "code",
   "execution_count": 21,
   "id": "2e7543c8",
   "metadata": {},
   "outputs": [
    {
     "data": {
      "text/plain": [
       "[('1620793383_A03590', 437),\n",
       " ('1620778311_A0395C', 455),\n",
       " ('1620802927_A03590', 488),\n",
       " ('total', 8550)]"
      ]
     },
     "execution_count": 21,
     "metadata": {},
     "output_type": "execute_result"
    }
   ],
   "source": [
    "cnt[-4:]"
   ]
  },
  {
   "cell_type": "code",
   "execution_count": 20,
   "id": "12fe7fb8",
   "metadata": {},
   "outputs": [
    {
     "data": {
      "text/plain": [
       "['1620793383_A03590', '1620778311_A0395C', '1620802927_A03590', 'total']"
      ]
     },
     "execution_count": 20,
     "metadata": {},
     "output_type": "execute_result"
    }
   ],
   "source": [
    "[x[0] for x in cnt[-4:]]"
   ]
  }
 ],
 "metadata": {
  "kernelspec": {
   "display_name": "Python 3",
   "language": "python",
   "name": "python3"
  },
  "language_info": {
   "codemirror_mode": {
    "name": "ipython",
    "version": 3
   },
   "file_extension": ".py",
   "mimetype": "text/x-python",
   "name": "python",
   "nbconvert_exporter": "python",
   "pygments_lexer": "ipython3",
   "version": "3.6.9"
  }
 },
 "nbformat": 4,
 "nbformat_minor": 5
}
