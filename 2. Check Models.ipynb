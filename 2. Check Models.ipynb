{
 "cells": [
  {
   "cell_type": "code",
   "execution_count": 1,
   "id": "simplified-methodology",
   "metadata": {},
   "outputs": [],
   "source": [
    "from module.c_test import test_build"
   ]
  },
  {
   "cell_type": "code",
   "execution_count": 2,
   "id": "formed-transmission",
   "metadata": {},
   "outputs": [
    {
     "name": "stdout",
     "output_type": "stream",
     "text": [
      "[m01] CHECK COMPLETE\n",
      "[m02] CHECK COMPLETE\n",
      "[m03] CHECK COMPLETE\n",
      "[m04] CHECK COMPLETE\n",
      "[m05] CHECK COMPLETE\n"
     ]
    }
   ],
   "source": [
    "test_build(is_all=True)"
   ]
  }
 ],
 "metadata": {
  "kernelspec": {
   "display_name": "Python 3",
   "language": "python",
   "name": "python3"
  },
  "language_info": {
   "codemirror_mode": {
    "name": "ipython",
    "version": 3
   },
   "file_extension": ".py",
   "mimetype": "text/x-python",
   "name": "python",
   "nbconvert_exporter": "python",
   "pygments_lexer": "ipython3",
   "version": "3.6.9"
  }
 },
 "nbformat": 4,
 "nbformat_minor": 5
}
