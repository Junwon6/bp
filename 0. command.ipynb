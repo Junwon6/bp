{
 "cells": [
  {
   "cell_type": "code",
   "execution_count": 3,
   "id": "hydraulic-directory",
   "metadata": {},
   "outputs": [],
   "source": [
    "from itertools import product"
   ]
  },
  {
   "cell_type": "code",
   "execution_count": 4,
   "id": "further-italian",
   "metadata": {},
   "outputs": [],
   "source": [
    "d_id = ['d02']\n",
    "e_id = ['e01', 'e02']\n",
    "m_id = ['m01', 'm02']"
   ]
  },
  {
   "cell_type": "code",
   "execution_count": 5,
   "id": "virgin-chase",
   "metadata": {},
   "outputs": [],
   "source": [
    "options = list(product(d_id, e_id, m_id))"
   ]
  },
  {
   "cell_type": "code",
   "execution_count": 6,
   "id": "sudden-reply",
   "metadata": {},
   "outputs": [
    {
     "name": "stdout",
     "output_type": "stream",
     "text": [
      "nohup python d02_e01_m01.py > ./log/d02_e01_m01.log &\n",
      "nohup python d02_e01_m02.py > ./log/d02_e01_m02.log &\n",
      "nohup python d02_e02_m01.py > ./log/d02_e02_m01.log &\n",
      "nohup python d02_e02_m02.py > ./log/d02_e02_m02.log &\n"
     ]
    }
   ],
   "source": [
    "for items in  options:\n",
    "    f_name = '_'.join(items)\n",
    "\n",
    "    command = f'nohup python {f_name}.py > ./log/{f_name}.log &'\n",
    "    print(command)"
   ]
  }
 ],
 "metadata": {
  "kernelspec": {
   "display_name": "Python 3",
   "language": "python",
   "name": "python3"
  },
  "language_info": {
   "codemirror_mode": {
    "name": "ipython",
    "version": 3
   },
   "file_extension": ".py",
   "mimetype": "text/x-python",
   "name": "python",
   "nbconvert_exporter": "python",
   "pygments_lexer": "ipython3",
   "version": "3.6.9"
  }
 },
 "nbformat": 4,
 "nbformat_minor": 5
}
