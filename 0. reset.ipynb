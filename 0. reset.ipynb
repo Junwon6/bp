{
 "cells": [
  {
   "cell_type": "markdown",
   "id": "cooked-eating",
   "metadata": {},
   "source": [
    "### Remove Learning Datasets"
   ]
  },
  {
   "cell_type": "code",
   "execution_count": null,
   "id": "variable-interpretation",
   "metadata": {},
   "outputs": [],
   "source": [
    "import shutil\n",
    "\n",
    "shutil.rmtree(f'./l-dataset')"
   ]
  },
  {
   "cell_type": "markdown",
   "id": "nutritional-intake",
   "metadata": {},
   "source": [
    "### Reset Directories related Experiments"
   ]
  },
  {
   "cell_type": "code",
   "execution_count": 1,
   "id": "framed-elephant",
   "metadata": {},
   "outputs": [],
   "source": [
    "import os\n",
    "import shutil\n",
    "\n",
    "folder = ['log', 'model_checkpoint', 'ray_results']\n",
    "\n",
    "for name in folder:\n",
    "    shutil.rmtree(f'./{name}')\n",
    "\n",
    "for name in folder:\n",
    "    os.mkdir(f'./{name}')"
   ]
  }
 ],
 "metadata": {
  "kernelspec": {
   "display_name": "Python 3",
   "language": "python",
   "name": "python3"
  },
  "language_info": {
   "codemirror_mode": {
    "name": "ipython",
    "version": 3
   },
   "file_extension": ".py",
   "mimetype": "text/x-python",
   "name": "python",
   "nbconvert_exporter": "python",
   "pygments_lexer": "ipython3",
   "version": "3.6.9"
  }
 },
 "nbformat": 4,
 "nbformat_minor": 5
}
