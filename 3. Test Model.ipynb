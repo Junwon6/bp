{
 "cells": [
  {
   "cell_type": "markdown",
   "id": "monetary-convert",
   "metadata": {},
   "source": [
    "# **Test Program**\n",
    "#### 1. Load the Learning Dataset\n",
    "#### 2. Build the Model\n",
    "#### 3. Train the Model\n",
    "***"
   ]
  },
  {
   "cell_type": "markdown",
   "id": "severe-philip",
   "metadata": {},
   "source": [
    "### 1. Load the Learning Dataset"
   ]
  },
  {
   "cell_type": "code",
   "execution_count": 1,
   "id": "minus-audit",
   "metadata": {},
   "outputs": [],
   "source": [
    "from module.c_data_loader import data_load\n",
    "\n",
    "t_path = '.'\n",
    "d_id = 'd00'      # dataset id\n",
    "s_id = 's01'      # detail number\n",
    "e_id = 'e06'\n",
    "case = 'case29'   # subject id\n",
    "n_fold = 3        # fold number\n",
    "s_len = 100\n",
    "n_dim = 1\n",
    "\n",
    "trnx, trny, tstx, tsty = data_load(t_path, d_id, s_id, e_id, case, n_fold, s_len)\n",
    "trnx = trnx.reshape(-1, s_len, n_dim)\n",
    "tstx = tstx.reshape(-1, s_len, n_dim)"
   ]
  },
  {
   "cell_type": "markdown",
   "id": "geographic-bhutan",
   "metadata": {},
   "source": [
    "### 2. Build the Model"
   ]
  },
  {
   "cell_type": "code",
   "execution_count": 1,
   "id": "subjective-clark",
   "metadata": {},
   "outputs": [
    {
     "name": "stdout",
     "output_type": "stream",
     "text": [
      "Help on class l04 in module module.c_model:\n",
      "\n",
      "class l04(builtins.object)\n",
      " |  m05\n",
      " |  abstract: stacked, residual, bidirectional lstm\n",
      " |  return: model                                                 : object\n",
      " |  \n",
      " |  parameter:\n",
      " |          1. s_len:         sequence length (time step)         : int\n",
      " |          2. n_dim:         data dimension                      : int\n",
      " |          3. n_unit:        # of lstm unit                      : int\n",
      " |          4. n_output:       # of output                        : int\n",
      " |  \n",
      " |  Methods defined here:\n",
      " |  \n",
      " |  __init__(self, s_len, n_dim, n_unit, n_output)\n",
      " |      Initialize self.  See help(type(self)) for accurate signature.\n",
      " |  \n",
      " |  b_unit(self, i_tensor, r_seq=False)\n",
      " |      # bidirectional lstm unit\n",
      " |  \n",
      " |  get_model(self)\n",
      " |  \n",
      " |  r_net(self, i_tensor)\n",
      " |      # residual network\n",
      " |  \n",
      " |  ----------------------------------------------------------------------\n",
      " |  Data descriptors defined here:\n",
      " |  \n",
      " |  __dict__\n",
      " |      dictionary for instance variables (if defined)\n",
      " |  \n",
      " |  __weakref__\n",
      " |      list of weak references to the object (if defined)\n",
      "\n"
     ]
    }
   ],
   "source": [
    "from module.common import get_model_func\n",
    "from module.c_test import get_test_model_config\n",
    "\n",
    "m_id = 'm05'                             # model id\n",
    "m_func = get_model_func(m_id)           # model build function\n",
    "m_config = get_test_model_config(m_id)   # model configuration\n",
    "\n",
    "help(m_func)"
   ]
  },
  {
   "cell_type": "code",
   "execution_count": 5,
   "id": "inclusive-moscow",
   "metadata": {},
   "outputs": [],
   "source": [
    "from module.common import set_device\n",
    "from module.c_model import get_model\n",
    "\n",
    "set_device(3)\n",
    "model = get_model(m_id, m_config)"
   ]
  },
  {
   "cell_type": "markdown",
   "id": "nuclear-tiffany",
   "metadata": {},
   "source": [
    "### 3. Train the Model"
   ]
  },
  {
   "cell_type": "code",
   "execution_count": 6,
   "id": "stuffed-intersection",
   "metadata": {},
   "outputs": [
    {
     "name": "stdout",
     "output_type": "stream",
     "text": [
      "12/12 [==============================] - 7s 132ms/step - loss: 8651.9349 - mae: 89.9866 - r2_score: -14.6488 - val_loss: 7478.2031 - val_mae: 83.4429 - val_r2_score: -15.3983\n"
     ]
    },
    {
     "data": {
      "text/plain": [
       "<tensorflow.python.keras.callbacks.History at 0x7f57c0420630>"
      ]
     },
     "execution_count": 6,
     "metadata": {},
     "output_type": "execute_result"
    }
   ],
   "source": [
    "model.fit(trnx, trny, \n",
    "      validation_split=0.2,\n",
    "      shuffle=True,\n",
    "      batch_size=256,\n",
    "      epochs=1\n",
    "     )"
   ]
  }
 ],
 "metadata": {
  "kernelspec": {
   "display_name": "Python 3",
   "language": "python",
   "name": "python3"
  },
  "language_info": {
   "codemirror_mode": {
    "name": "ipython",
    "version": 3
   },
   "file_extension": ".py",
   "mimetype": "text/x-python",
   "name": "python",
   "nbconvert_exporter": "python",
   "pygments_lexer": "ipython3",
   "version": "3.6.9"
  }
 },
 "nbformat": 4,
 "nbformat_minor": 5
}
